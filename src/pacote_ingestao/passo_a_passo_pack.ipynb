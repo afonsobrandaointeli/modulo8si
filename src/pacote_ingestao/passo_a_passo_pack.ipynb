{
  "cells": [
    {
      "cell_type": "markdown",
      "metadata": {
        "id": "EkQx7hBCzZMH"
      },
      "source": [
        "**Antes de começar**"
      ]
    },
    {
      "cell_type": "code",
      "execution_count": null,
      "metadata": {
        "id": "pvkMTC9xzZMJ"
      },
      "outputs": [],
      "source": [
        "# Este código garante que o notebook sempre vai buscar os módulos\n",
        "%load_ext autoreload\n",
        "%autoreload 2\n"
      ]
    },
    {
      "cell_type": "markdown",
      "metadata": {
        "id": "qWIY2eU5zZMK"
      },
      "source": [
        "# Aula de Processamento de Dados"
      ]
    },
    {
      "cell_type": "markdown",
      "metadata": {
        "id": "kSvoLLyYzZMK"
      },
      "source": [
        "## O que vamos fazer?"
      ]
    },
    {
      "cell_type": "markdown",
      "metadata": {
        "id": "Dfir8DZUzZML"
      },
      "source": [
        "Criar um pacote em python que vai nos ajudar a tratar e processar os dados do **Titanic**\n",
        "\n",
        "Mas antes, vamos entender o que é um **pacote para Python**:\n",
        "\n",
        "👉 Código reutilizável de um projeto para outro (de... importar...)\n",
        "\n",
        "Um pacote permite que você:\n",
        "\n",
        "👉 Compartilhe com outras pessoas\n",
        "\n",
        "- Instalar a partir do PyPI: pip install <nome_do_pacote>\n",
        "- Instalar a partir do GitHub: pip install git+https://...\n",
        "\n",
        "👉 Implantar em produção (em servidores Linux)\n",
        "\n",
        "👉 Rastreie o código (git) e colabore nele!\n",
        "\n",
        "🎯 Objetivo da aula: criar um pacote chamado `intelidata` que você possa instalar em qualquer máquina\n",
        "\n",
        "`pip instalar intelidata`"
      ]
    },
    {
      "cell_type": "markdown",
      "metadata": {
        "id": "mehrL1FzzZML"
      },
      "source": [
        "## Qual a diferença entre módulo e pacote?\n",
        "\n",
        "- Um módulo é um único arquivo python dentro de um pacote\n",
        "- Um pacote é um diretório de módulos python que contém um __init__.py"
      ]
    },
    {
      "cell_type": "markdown",
      "metadata": {
        "id": "G92OFuFXzZML"
      },
      "source": [
        "Então vamos criar uma pasta chamada `intelidata` e colocar o arquivo `__init__.py` e `lib.py`\n",
        "\n",
        "1. O arquivo `__init__.py` tem duas funções principais em um pacote Python:\n",
        "    \n",
        "    * **Marcação de Diretório**: Primeiro e mais fundamental, a presença de um arquivo `__init__.py` em um diretório sinaliza para o Python que esse diretório deve ser tratado como um pacote ou subpacote. Isso permite que você faça importações usando o nome do diretório. Por exemplo, se você tem um diretório `mypackage` com um arquivo `__init__.py` dentro dele, você pode importar módulos desse diretório usando `import mypackage.mymodule`.\n",
        "        \n",
        "    * **Execução de Código de Inicialização**: Quando o pacote é importado, o código no arquivo `__init__.py` é executado automaticamente. Isso é útil para qualquer configuração ou inicialização que você queira fazer para o seu pacote. Por exemplo, você pode inicializar algumas variáveis, importar submódulos ou executar qualquer código de configuração necessário.\n",
        "\n",
        "2. O arquivo `lib.py` é onde vai ser codificado as funções para que o pacote funcione."
      ]
    },
    {
      "cell_type": "code",
      "execution_count": null,
      "metadata": {
        "id": "jVz5M1UgzZML"
      },
      "outputs": [],
      "source": [
        "!mkdir intelidata\n",
        "!touch intelidata/__init__.py\n",
        "!touch intelidata/lib.py\n"
      ]
    },
    {
      "cell_type": "markdown",
      "metadata": {
        "id": "jUFMCqzzzZML"
      },
      "source": [
        "#############################################################################\n",
        "\n",
        "Vamos incluir no arquivo `lib.py` o seguinte código:\n",
        "\n",
        "```python\n",
        "def preprocess():\n",
        "    print(\"Vamos processar os dados!\")\n",
        "\n",
        "if __name__ == '__main__':\n",
        "    preprocess()\n",
        "```\n",
        "#############################################################################"
      ]
    },
    {
      "cell_type": "markdown",
      "metadata": {
        "id": "ZBQazPARzZMM"
      },
      "source": [
        "Agora criamos o arquivo de setup para que o comando `pip install` funcione. O setup.py é um arquivo tradicionalmente usado na distribuição e instalação de bibliotecas e aplicativos Python. Ele contém informações sobre o pacote que você deseja distribuir e instruções sobre como instalá-lo. Esse arquivo é utilizado principalmente com a ferramenta setuptools, que é uma biblioteca para facilitar a distribuição de pacotes Python."
      ]
    },
    {
      "cell_type": "code",
      "execution_count": null,
      "metadata": {
        "id": "3WuBtE8mzZMM"
      },
      "outputs": [],
      "source": [
        "!touch setup.py\n"
      ]
    },
    {
      "cell_type": "markdown",
      "metadata": {
        "id": "MhhGLnwTzZMM"
      },
      "source": [
        "Preenchemos com o seguinte código:\n",
        "\n",
        "```python\n",
        "# setup.py\n",
        "from setuptools import setup\n",
        "\n",
        "setup(name='intelidata',\n",
        "      description=\"este pacote instala os preprocessadores\",\n",
        "      packages=[\"intelidata\"]) # Aqui podemos ter vários pacotes...\n",
        "```"
      ]
    },
    {
      "cell_type": "markdown",
      "metadata": {
        "id": "OB1d1E3RzZMM"
      },
      "source": [
        "E então instalamos com `pip install .`"
      ]
    },
    {
      "cell_type": "code",
      "execution_count": null,
      "metadata": {
        "colab": {
          "base_uri": "https://localhost:8080/"
        },
        "id": "pHLeFZMyzZMM",
        "outputId": "bdfa6be7-45ee-4992-faa5-b736f2518190"
      },
      "outputs": [
        {
          "name": "stdout",
          "output_type": "stream",
          "text": [
            "Processing /content\n",
            "  Preparing metadata (setup.py) ... \u001b[?25l\u001b[?25hdone\n",
            "Building wheels for collected packages: intelidata\n",
            "  Building wheel for intelidata (setup.py) ... \u001b[?25l\u001b[?25hdone\n",
            "  Created wheel for intelidata: filename=intelidata-0.0.0-py3-none-any.whl size=1411 sha256=d751d122aac5bcd96efda449a37f2bcaeffe51d28e8b9ccabf4643a4e82c0124\n",
            "  Stored in directory: /tmp/pip-ephem-wheel-cache-afaj_7q0/wheels/e8/d3/96/0e8c7135806cbda4db28d12fc8d710e5e4f66ced1411163e67\n",
            "Successfully built intelidata\n",
            "Installing collected packages: intelidata\n",
            "Successfully installed intelidata-0.0.0\n"
          ]
        }
      ],
      "source": [
        "!pip install .\n"
      ]
    },
    {
      "cell_type": "markdown",
      "metadata": {
        "id": "Ap0DJWAyzZMN"
      },
      "source": [
        "Agora podemos chamar a função que tem no arquivo `lib.py`"
      ]
    },
    {
      "cell_type": "code",
      "execution_count": null,
      "metadata": {
        "colab": {
          "base_uri": "https://localhost:8080/"
        },
        "id": "p5CFFK95zZMN",
        "outputId": "a9fdd70a-6fc5-4dc9-cd3d-b4ededeec816"
      },
      "outputs": [
        {
          "name": "stdout",
          "output_type": "stream",
          "text": [
            "Vamos processar os dados!\n"
          ]
        }
      ],
      "source": [
        "from intelidata.lib import preprocess\n",
        "\n",
        "preprocess()\n"
      ]
    },
    {
      "cell_type": "markdown",
      "metadata": {
        "id": "EIg1-yEwzZMN"
      },
      "source": [
        "Agora vamos criar uma CLI com o Makefile"
      ]
    },
    {
      "cell_type": "code",
      "execution_count": null,
      "metadata": {
        "id": "YJb40DdBzZMN"
      },
      "outputs": [],
      "source": [
        "!touch Makefile\n"
      ]
    },
    {
      "cell_type": "markdown",
      "metadata": {
        "id": "LjuC7SGVzZMN"
      },
      "source": [
        "O Makefile é muito sensível, então não deixe de passar este código com o espaçamento em `tab`:\n",
        "\n",
        "```makefile\n",
        "install:\n",
        "    @pip install -e .\n",
        "```"
      ]
    },
    {
      "cell_type": "markdown",
      "metadata": {
        "id": "v2t9xZpNzZMN"
      },
      "source": [
        "Note que o `install:` é o comando, e desta vez passamos a instalação com o `-e`, é usado para instalar um pacote Python em modo \"editável\" ou \"desenvolvimento\". Neste momento vamos utilizar desta forma pois ele guarda caches do nosso desenvolvimento. Quando for para produção lembre-se de mudar!"
      ]
    },
    {
      "cell_type": "code",
      "execution_count": null,
      "metadata": {
        "colab": {
          "base_uri": "https://localhost:8080/"
        },
        "id": "-XZdqOcCzZMN",
        "outputId": "86eb7e34-bfaf-43b6-e1ed-849e078a78af"
      },
      "outputs": [
        {
          "name": "stdout",
          "output_type": "stream",
          "text": [
            "Makefile:2: *** missing separator.  Stop.\n"
          ]
        }
      ],
      "source": [
        "!make install\n"
      ]
    },
    {
      "cell_type": "code",
      "execution_count": null,
      "metadata": {
        "colab": {
          "base_uri": "https://localhost:8080/"
        },
        "id": "oICvvc4jzZMN",
        "outputId": "e21065e5-6526-455c-b7d1-1ec0509755c8"
      },
      "outputs": [
        {
          "name": "stdout",
          "output_type": "stream",
          "text": [
            "/bin/bash: line 1: tree: command not found\n"
          ]
        }
      ],
      "source": [
        "# O comando tree mostra como está a estrutura de diretórios,\n",
        "# isso é bom para a documentação por exemplo...\n",
        "!tree\n"
      ]
    },
    {
      "cell_type": "markdown",
      "metadata": {
        "id": "8_F5a-EczZMN"
      },
      "source": [
        "Agora vamos criar uma pasta de teste para o nosso pacote,, para isso criamos um arquivo chamado `requirements.txt` com as bibliotecas que somos dependentes, e uma dessas vai ser o `pytest`"
      ]
    },
    {
      "cell_type": "code",
      "execution_count": null,
      "metadata": {
        "colab": {
          "base_uri": "https://localhost:8080/"
        },
        "id": "8Cy4pttXzZMO",
        "outputId": "8ee16aba-1c79-40e8-d090-47fd71c15384"
      },
      "outputs": [
        {
          "name": "stdout",
          "output_type": "stream",
          "text": [
            "Obtaining file:///content\n",
            "  Preparing metadata (setup.py) ... \u001b[?25l\u001b[?25hdone\n",
            "Installing collected packages: intelidata\n",
            "  Attempting uninstall: intelidata\n",
            "    Found existing installation: intelidata 0.0.0\n",
            "    Uninstalling intelidata-0.0.0:\n",
            "      Successfully uninstalled intelidata-0.0.0\n",
            "  Running setup.py develop for intelidata\n",
            "Successfully installed intelidata-0.0.0\n",
            "\u001b[1m======================================= test session starts ========================================\u001b[0m\n",
            "platform linux -- Python 3.10.12, pytest-7.4.2, pluggy-1.3.0 -- /usr/bin/python3\n",
            "cachedir: .pytest_cache\n",
            "rootdir: /content\n",
            "plugins: anyio-3.7.1\n",
            "collected 0 items                                                                                  \u001b[0m\n",
            "\n",
            "\u001b[33m====================================== \u001b[33mno tests ran\u001b[0m\u001b[33m in 0.00s\u001b[0m\u001b[33m =======================================\u001b[0m\n",
            "\u001b[31mERROR: file or directory not found: tests\n",
            "\u001b[0m\n"
          ]
        }
      ],
      "source": [
        "!touch requirements.txt\n",
        "!echo pytest >> requirements.txt\n",
        "!pip install -e .\n",
        "!pytest tests -v # verbose\n"
      ]
    },
    {
      "cell_type": "markdown",
      "metadata": {
        "id": "0vpqyM6zzZMO"
      },
      "source": [
        "Legal! temos o pacote de testes, mas não temos nenhum teste, vamos criar agora a pasta `tests` e o nosso primeiro teste"
      ]
    },
    {
      "cell_type": "code",
      "execution_count": null,
      "metadata": {
        "id": "OCdo0BALzZMO"
      },
      "outputs": [],
      "source": [
        "!mkdir tests\n",
        "!touch tests/test_lib.py\n"
      ]
    },
    {
      "cell_type": "markdown",
      "metadata": {
        "id": "XI75__lYzZMO"
      },
      "source": [
        "Coloque este código dentro do `test_lib.py`:\n",
        "\n",
        "```python\n",
        "import pytest\n",
        "from intelidata.lib import preprocess\n",
        "\n",
        "def test_preprocess_output(capfd):  # capfd é um \"fixture\" do pytest para capturar saídas impressas.\n",
        "    preprocess()\n",
        "    out, err = capfd.readouterr()\n",
        "    assert out == \"Vamos processar os dados!\\n\", \"A saída impressa não corresponde ao esperado\"\n",
        "```"
      ]
    },
    {
      "cell_type": "markdown",
      "metadata": {
        "id": "woj68D4nzZMO"
      },
      "source": [
        "**Opa**, temos que fazer com que o setup leia o requirements!\n",
        "\n",
        "```python\n",
        "from setuptools import setup\n",
        "\n",
        "# Lê o arquivo requirements.txt e coloca as dependências em uma lista\n",
        "with open('requirements.txt') as f:\n",
        "    required = f.read().splitlines()\n",
        "\n",
        "setup(\n",
        "    name='intelidata',\n",
        "    description='este pacote instala os preprocessadores',\n",
        "    packages=['intelidata'],\n",
        "    install_requires=required  # Aqui as dependências são passadas\n",
        ")\n",
        "```"
      ]
    },
    {
      "cell_type": "code",
      "execution_count": null,
      "metadata": {
        "colab": {
          "base_uri": "https://localhost:8080/"
        },
        "id": "FNeMKm1C2RAz",
        "outputId": "45b7cf1a-fee1-4ddf-9d5b-10b7e8ea6e1b"
      },
      "outputs": [
        {
          "name": "stdout",
          "output_type": "stream",
          "text": [
            "\u001b[1m======================================= test session starts ========================================\u001b[0m\n",
            "platform linux -- Python 3.10.12, pytest-7.4.2, pluggy-1.3.0\n",
            "rootdir: /content\n",
            "plugins: anyio-3.7.1\n",
            "\u001b[1mcollecting ... \u001b[0m\u001b[1m\rcollected 1 item                                                                                   \u001b[0m\n",
            "\n",
            "tests/test_lib.py \u001b[32m.\u001b[0m\u001b[32m                                                                          [100%]\u001b[0m\n",
            "\n",
            "\u001b[32m======================================== \u001b[32m\u001b[1m1 passed\u001b[0m\u001b[32m in 0.01s\u001b[0m\u001b[32m =========================================\u001b[0m\n"
          ]
        }
      ],
      "source": [
        "!pytest tests"
      ]
    },
    {
      "cell_type": "markdown",
      "metadata": {
        "id": "-rVTO6shzZMO"
      },
      "source": [
        "No Makefile coloque o comando de testes:\n",
        "\n",
        "```makefile\n",
        "# Makefile\n",
        "test:\n",
        "  @pytest -v tests\n",
        "```\n",
        "\n",
        "e rodamos o comando de teste:"
      ]
    },
    {
      "cell_type": "code",
      "execution_count": null,
      "metadata": {
        "id": "IUCf5rm2zZMO"
      },
      "outputs": [],
      "source": [
        "!make test\n"
      ]
    },
    {
      "cell_type": "markdown",
      "metadata": {
        "id": "6UlI2zoOzZMO"
      },
      "source": [
        "### Agora vamos criar o load dos dados"
      ]
    },
    {
      "cell_type": "markdown",
      "metadata": {
        "id": "_cXcJL4-zZMO"
      },
      "source": [
        "Vamos adicionar o código:\n",
        "\n",
        "```python\n",
        "def load_data():\n",
        "    # Ler o arquivo CSV usando pandas\n",
        "    df = pd.read_csv(\"titanic_dataset.csv\")\n",
        "\n",
        "    return df\n",
        "```\n",
        "\n",
        "no arquivo `lib.py`"
      ]
    },
    {
      "cell_type": "code",
      "execution_count": null,
      "metadata": {
        "id": "9oNUerxBzZMO"
      },
      "outputs": [],
      "source": [
        "# Fazemos o load data\n",
        "import intelidata.lib as id\n",
        "\n",
        "df = id.load_data()\n"
      ]
    },
    {
      "cell_type": "code",
      "execution_count": null,
      "metadata": {
        "id": "w9APQAnzzZMO",
        "outputId": "e9b9c54f-557c-47bc-c948-7266ec792c9c"
      },
      "outputs": [
        {
          "data": {
            "text/html": [
              "<div>\n",
              "<style scoped>\n",
              "    .dataframe tbody tr th:only-of-type {\n",
              "        vertical-align: middle;\n",
              "    }\n",
              "\n",
              "    .dataframe tbody tr th {\n",
              "        vertical-align: top;\n",
              "    }\n",
              "\n",
              "    .dataframe thead th {\n",
              "        text-align: right;\n",
              "    }\n",
              "</style>\n",
              "<table border=\"1\" class=\"dataframe\">\n",
              "  <thead>\n",
              "    <tr style=\"text-align: right;\">\n",
              "      <th></th>\n",
              "      <th>PassengerId</th>\n",
              "      <th>Survived</th>\n",
              "      <th>Pclass</th>\n",
              "      <th>Name</th>\n",
              "      <th>Sex</th>\n",
              "      <th>Age</th>\n",
              "      <th>SibSp</th>\n",
              "      <th>Parch</th>\n",
              "      <th>Ticket</th>\n",
              "      <th>Fare</th>\n",
              "      <th>Cabin</th>\n",
              "      <th>Embarked</th>\n",
              "    </tr>\n",
              "  </thead>\n",
              "  <tbody>\n",
              "    <tr>\n",
              "      <th>0</th>\n",
              "      <td>1</td>\n",
              "      <td>0</td>\n",
              "      <td>3</td>\n",
              "      <td>Braund, Mr. Owen Harris</td>\n",
              "      <td>male</td>\n",
              "      <td>22.0</td>\n",
              "      <td>1</td>\n",
              "      <td>0</td>\n",
              "      <td>A/5 21171</td>\n",
              "      <td>7.2500</td>\n",
              "      <td>NaN</td>\n",
              "      <td>S</td>\n",
              "    </tr>\n",
              "    <tr>\n",
              "      <th>1</th>\n",
              "      <td>2</td>\n",
              "      <td>1</td>\n",
              "      <td>1</td>\n",
              "      <td>Cumings, Mrs. John Bradley (Florence Briggs Th...</td>\n",
              "      <td>female</td>\n",
              "      <td>38.0</td>\n",
              "      <td>1</td>\n",
              "      <td>0</td>\n",
              "      <td>PC 17599</td>\n",
              "      <td>71.2833</td>\n",
              "      <td>C85</td>\n",
              "      <td>C</td>\n",
              "    </tr>\n",
              "    <tr>\n",
              "      <th>2</th>\n",
              "      <td>3</td>\n",
              "      <td>1</td>\n",
              "      <td>3</td>\n",
              "      <td>Heikkinen, Miss. Laina</td>\n",
              "      <td>female</td>\n",
              "      <td>26.0</td>\n",
              "      <td>0</td>\n",
              "      <td>0</td>\n",
              "      <td>STON/O2. 3101282</td>\n",
              "      <td>7.9250</td>\n",
              "      <td>NaN</td>\n",
              "      <td>S</td>\n",
              "    </tr>\n",
              "    <tr>\n",
              "      <th>3</th>\n",
              "      <td>4</td>\n",
              "      <td>1</td>\n",
              "      <td>1</td>\n",
              "      <td>Futrelle, Mrs. Jacques Heath (Lily May Peel)</td>\n",
              "      <td>female</td>\n",
              "      <td>35.0</td>\n",
              "      <td>1</td>\n",
              "      <td>0</td>\n",
              "      <td>113803</td>\n",
              "      <td>53.1000</td>\n",
              "      <td>C123</td>\n",
              "      <td>S</td>\n",
              "    </tr>\n",
              "    <tr>\n",
              "      <th>4</th>\n",
              "      <td>5</td>\n",
              "      <td>0</td>\n",
              "      <td>3</td>\n",
              "      <td>Allen, Mr. William Henry</td>\n",
              "      <td>male</td>\n",
              "      <td>35.0</td>\n",
              "      <td>0</td>\n",
              "      <td>0</td>\n",
              "      <td>373450</td>\n",
              "      <td>8.0500</td>\n",
              "      <td>NaN</td>\n",
              "      <td>S</td>\n",
              "    </tr>\n",
              "    <tr>\n",
              "      <th>...</th>\n",
              "      <td>...</td>\n",
              "      <td>...</td>\n",
              "      <td>...</td>\n",
              "      <td>...</td>\n",
              "      <td>...</td>\n",
              "      <td>...</td>\n",
              "      <td>...</td>\n",
              "      <td>...</td>\n",
              "      <td>...</td>\n",
              "      <td>...</td>\n",
              "      <td>...</td>\n",
              "      <td>...</td>\n",
              "    </tr>\n",
              "    <tr>\n",
              "      <th>886</th>\n",
              "      <td>887</td>\n",
              "      <td>0</td>\n",
              "      <td>2</td>\n",
              "      <td>Montvila, Rev. Juozas</td>\n",
              "      <td>male</td>\n",
              "      <td>27.0</td>\n",
              "      <td>0</td>\n",
              "      <td>0</td>\n",
              "      <td>211536</td>\n",
              "      <td>13.0000</td>\n",
              "      <td>NaN</td>\n",
              "      <td>S</td>\n",
              "    </tr>\n",
              "    <tr>\n",
              "      <th>887</th>\n",
              "      <td>888</td>\n",
              "      <td>1</td>\n",
              "      <td>1</td>\n",
              "      <td>Graham, Miss. Margaret Edith</td>\n",
              "      <td>female</td>\n",
              "      <td>19.0</td>\n",
              "      <td>0</td>\n",
              "      <td>0</td>\n",
              "      <td>112053</td>\n",
              "      <td>30.0000</td>\n",
              "      <td>B42</td>\n",
              "      <td>S</td>\n",
              "    </tr>\n",
              "    <tr>\n",
              "      <th>888</th>\n",
              "      <td>889</td>\n",
              "      <td>0</td>\n",
              "      <td>3</td>\n",
              "      <td>Johnston, Miss. Catherine Helen \"Carrie\"</td>\n",
              "      <td>female</td>\n",
              "      <td>NaN</td>\n",
              "      <td>1</td>\n",
              "      <td>2</td>\n",
              "      <td>W./C. 6607</td>\n",
              "      <td>23.4500</td>\n",
              "      <td>NaN</td>\n",
              "      <td>S</td>\n",
              "    </tr>\n",
              "    <tr>\n",
              "      <th>889</th>\n",
              "      <td>890</td>\n",
              "      <td>1</td>\n",
              "      <td>1</td>\n",
              "      <td>Behr, Mr. Karl Howell</td>\n",
              "      <td>male</td>\n",
              "      <td>26.0</td>\n",
              "      <td>0</td>\n",
              "      <td>0</td>\n",
              "      <td>111369</td>\n",
              "      <td>30.0000</td>\n",
              "      <td>C148</td>\n",
              "      <td>C</td>\n",
              "    </tr>\n",
              "    <tr>\n",
              "      <th>890</th>\n",
              "      <td>891</td>\n",
              "      <td>0</td>\n",
              "      <td>3</td>\n",
              "      <td>Dooley, Mr. Patrick</td>\n",
              "      <td>male</td>\n",
              "      <td>32.0</td>\n",
              "      <td>0</td>\n",
              "      <td>0</td>\n",
              "      <td>370376</td>\n",
              "      <td>7.7500</td>\n",
              "      <td>NaN</td>\n",
              "      <td>Q</td>\n",
              "    </tr>\n",
              "  </tbody>\n",
              "</table>\n",
              "<p>891 rows × 12 columns</p>\n",
              "</div>"
            ],
            "text/plain": [
              "     PassengerId  Survived  Pclass  \\\n",
              "0              1         0       3   \n",
              "1              2         1       1   \n",
              "2              3         1       3   \n",
              "3              4         1       1   \n",
              "4              5         0       3   \n",
              "..           ...       ...     ...   \n",
              "886          887         0       2   \n",
              "887          888         1       1   \n",
              "888          889         0       3   \n",
              "889          890         1       1   \n",
              "890          891         0       3   \n",
              "\n",
              "                                                  Name     Sex   Age  SibSp  \\\n",
              "0                              Braund, Mr. Owen Harris    male  22.0      1   \n",
              "1    Cumings, Mrs. John Bradley (Florence Briggs Th...  female  38.0      1   \n",
              "2                               Heikkinen, Miss. Laina  female  26.0      0   \n",
              "3         Futrelle, Mrs. Jacques Heath (Lily May Peel)  female  35.0      1   \n",
              "4                             Allen, Mr. William Henry    male  35.0      0   \n",
              "..                                                 ...     ...   ...    ...   \n",
              "886                              Montvila, Rev. Juozas    male  27.0      0   \n",
              "887                       Graham, Miss. Margaret Edith  female  19.0      0   \n",
              "888           Johnston, Miss. Catherine Helen \"Carrie\"  female   NaN      1   \n",
              "889                              Behr, Mr. Karl Howell    male  26.0      0   \n",
              "890                                Dooley, Mr. Patrick    male  32.0      0   \n",
              "\n",
              "     Parch            Ticket     Fare Cabin Embarked  \n",
              "0        0         A/5 21171   7.2500   NaN        S  \n",
              "1        0          PC 17599  71.2833   C85        C  \n",
              "2        0  STON/O2. 3101282   7.9250   NaN        S  \n",
              "3        0            113803  53.1000  C123        S  \n",
              "4        0            373450   8.0500   NaN        S  \n",
              "..     ...               ...      ...   ...      ...  \n",
              "886      0            211536  13.0000   NaN        S  \n",
              "887      0            112053  30.0000   B42        S  \n",
              "888      2        W./C. 6607  23.4500   NaN        S  \n",
              "889      0            111369  30.0000  C148        C  \n",
              "890      0            370376   7.7500   NaN        Q  \n",
              "\n",
              "[891 rows x 12 columns]"
            ]
          },
          "execution_count": 5,
          "metadata": {},
          "output_type": "execute_result"
        }
      ],
      "source": [
        "df\n"
      ]
    },
    {
      "cell_type": "markdown",
      "metadata": {
        "id": "2ykQStj3zZMP"
      },
      "source": [
        "Vemos que o dataset está cheio de furos de dados, vamos criar uma função para limpar os dados no `lib.py`:\n",
        "\n",
        "```python\n",
        "def clean_data(df: pd.DataFrame) -> pd.DataFrame:\n",
        "    # Removendo linhas que contêm valores NaN\n",
        "    cleaned_df = df.dropna()\n",
        "\n",
        "    return cleaned_df\n",
        "```\n",
        "\n",
        "e rodamos:"
      ]
    },
    {
      "cell_type": "code",
      "execution_count": null,
      "metadata": {
        "id": "QW11jGHJzZMP"
      },
      "outputs": [],
      "source": [
        "from intelidata.lib import clean_data\n",
        "\n",
        "df = clean_data(df)\n"
      ]
    },
    {
      "cell_type": "code",
      "execution_count": null,
      "metadata": {
        "id": "3z_PQKrMzZMP",
        "outputId": "dbb7b39b-573d-470a-b9f6-90d234af0728"
      },
      "outputs": [
        {
          "data": {
            "text/html": [
              "<div>\n",
              "<style scoped>\n",
              "    .dataframe tbody tr th:only-of-type {\n",
              "        vertical-align: middle;\n",
              "    }\n",
              "\n",
              "    .dataframe tbody tr th {\n",
              "        vertical-align: top;\n",
              "    }\n",
              "\n",
              "    .dataframe thead th {\n",
              "        text-align: right;\n",
              "    }\n",
              "</style>\n",
              "<table border=\"1\" class=\"dataframe\">\n",
              "  <thead>\n",
              "    <tr style=\"text-align: right;\">\n",
              "      <th></th>\n",
              "      <th>PassengerId</th>\n",
              "      <th>Survived</th>\n",
              "      <th>Pclass</th>\n",
              "      <th>Name</th>\n",
              "      <th>Sex</th>\n",
              "      <th>Age</th>\n",
              "      <th>SibSp</th>\n",
              "      <th>Parch</th>\n",
              "      <th>Ticket</th>\n",
              "      <th>Fare</th>\n",
              "      <th>Cabin</th>\n",
              "      <th>Embarked</th>\n",
              "    </tr>\n",
              "  </thead>\n",
              "  <tbody>\n",
              "    <tr>\n",
              "      <th>1</th>\n",
              "      <td>2</td>\n",
              "      <td>1</td>\n",
              "      <td>1</td>\n",
              "      <td>Cumings, Mrs. John Bradley (Florence Briggs Th...</td>\n",
              "      <td>female</td>\n",
              "      <td>38.0</td>\n",
              "      <td>1</td>\n",
              "      <td>0</td>\n",
              "      <td>PC 17599</td>\n",
              "      <td>71.2833</td>\n",
              "      <td>C85</td>\n",
              "      <td>C</td>\n",
              "    </tr>\n",
              "    <tr>\n",
              "      <th>3</th>\n",
              "      <td>4</td>\n",
              "      <td>1</td>\n",
              "      <td>1</td>\n",
              "      <td>Futrelle, Mrs. Jacques Heath (Lily May Peel)</td>\n",
              "      <td>female</td>\n",
              "      <td>35.0</td>\n",
              "      <td>1</td>\n",
              "      <td>0</td>\n",
              "      <td>113803</td>\n",
              "      <td>53.1000</td>\n",
              "      <td>C123</td>\n",
              "      <td>S</td>\n",
              "    </tr>\n",
              "    <tr>\n",
              "      <th>6</th>\n",
              "      <td>7</td>\n",
              "      <td>0</td>\n",
              "      <td>1</td>\n",
              "      <td>McCarthy, Mr. Timothy J</td>\n",
              "      <td>male</td>\n",
              "      <td>54.0</td>\n",
              "      <td>0</td>\n",
              "      <td>0</td>\n",
              "      <td>17463</td>\n",
              "      <td>51.8625</td>\n",
              "      <td>E46</td>\n",
              "      <td>S</td>\n",
              "    </tr>\n",
              "    <tr>\n",
              "      <th>10</th>\n",
              "      <td>11</td>\n",
              "      <td>1</td>\n",
              "      <td>3</td>\n",
              "      <td>Sandstrom, Miss. Marguerite Rut</td>\n",
              "      <td>female</td>\n",
              "      <td>4.0</td>\n",
              "      <td>1</td>\n",
              "      <td>1</td>\n",
              "      <td>PP 9549</td>\n",
              "      <td>16.7000</td>\n",
              "      <td>G6</td>\n",
              "      <td>S</td>\n",
              "    </tr>\n",
              "    <tr>\n",
              "      <th>11</th>\n",
              "      <td>12</td>\n",
              "      <td>1</td>\n",
              "      <td>1</td>\n",
              "      <td>Bonnell, Miss. Elizabeth</td>\n",
              "      <td>female</td>\n",
              "      <td>58.0</td>\n",
              "      <td>0</td>\n",
              "      <td>0</td>\n",
              "      <td>113783</td>\n",
              "      <td>26.5500</td>\n",
              "      <td>C103</td>\n",
              "      <td>S</td>\n",
              "    </tr>\n",
              "    <tr>\n",
              "      <th>...</th>\n",
              "      <td>...</td>\n",
              "      <td>...</td>\n",
              "      <td>...</td>\n",
              "      <td>...</td>\n",
              "      <td>...</td>\n",
              "      <td>...</td>\n",
              "      <td>...</td>\n",
              "      <td>...</td>\n",
              "      <td>...</td>\n",
              "      <td>...</td>\n",
              "      <td>...</td>\n",
              "      <td>...</td>\n",
              "    </tr>\n",
              "    <tr>\n",
              "      <th>871</th>\n",
              "      <td>872</td>\n",
              "      <td>1</td>\n",
              "      <td>1</td>\n",
              "      <td>Beckwith, Mrs. Richard Leonard (Sallie Monypeny)</td>\n",
              "      <td>female</td>\n",
              "      <td>47.0</td>\n",
              "      <td>1</td>\n",
              "      <td>1</td>\n",
              "      <td>11751</td>\n",
              "      <td>52.5542</td>\n",
              "      <td>D35</td>\n",
              "      <td>S</td>\n",
              "    </tr>\n",
              "    <tr>\n",
              "      <th>872</th>\n",
              "      <td>873</td>\n",
              "      <td>0</td>\n",
              "      <td>1</td>\n",
              "      <td>Carlsson, Mr. Frans Olof</td>\n",
              "      <td>male</td>\n",
              "      <td>33.0</td>\n",
              "      <td>0</td>\n",
              "      <td>0</td>\n",
              "      <td>695</td>\n",
              "      <td>5.0000</td>\n",
              "      <td>B51 B53 B55</td>\n",
              "      <td>S</td>\n",
              "    </tr>\n",
              "    <tr>\n",
              "      <th>879</th>\n",
              "      <td>880</td>\n",
              "      <td>1</td>\n",
              "      <td>1</td>\n",
              "      <td>Potter, Mrs. Thomas Jr (Lily Alexenia Wilson)</td>\n",
              "      <td>female</td>\n",
              "      <td>56.0</td>\n",
              "      <td>0</td>\n",
              "      <td>1</td>\n",
              "      <td>11767</td>\n",
              "      <td>83.1583</td>\n",
              "      <td>C50</td>\n",
              "      <td>C</td>\n",
              "    </tr>\n",
              "    <tr>\n",
              "      <th>887</th>\n",
              "      <td>888</td>\n",
              "      <td>1</td>\n",
              "      <td>1</td>\n",
              "      <td>Graham, Miss. Margaret Edith</td>\n",
              "      <td>female</td>\n",
              "      <td>19.0</td>\n",
              "      <td>0</td>\n",
              "      <td>0</td>\n",
              "      <td>112053</td>\n",
              "      <td>30.0000</td>\n",
              "      <td>B42</td>\n",
              "      <td>S</td>\n",
              "    </tr>\n",
              "    <tr>\n",
              "      <th>889</th>\n",
              "      <td>890</td>\n",
              "      <td>1</td>\n",
              "      <td>1</td>\n",
              "      <td>Behr, Mr. Karl Howell</td>\n",
              "      <td>male</td>\n",
              "      <td>26.0</td>\n",
              "      <td>0</td>\n",
              "      <td>0</td>\n",
              "      <td>111369</td>\n",
              "      <td>30.0000</td>\n",
              "      <td>C148</td>\n",
              "      <td>C</td>\n",
              "    </tr>\n",
              "  </tbody>\n",
              "</table>\n",
              "<p>183 rows × 12 columns</p>\n",
              "</div>"
            ],
            "text/plain": [
              "     PassengerId  Survived  Pclass  \\\n",
              "1              2         1       1   \n",
              "3              4         1       1   \n",
              "6              7         0       1   \n",
              "10            11         1       3   \n",
              "11            12         1       1   \n",
              "..           ...       ...     ...   \n",
              "871          872         1       1   \n",
              "872          873         0       1   \n",
              "879          880         1       1   \n",
              "887          888         1       1   \n",
              "889          890         1       1   \n",
              "\n",
              "                                                  Name     Sex   Age  SibSp  \\\n",
              "1    Cumings, Mrs. John Bradley (Florence Briggs Th...  female  38.0      1   \n",
              "3         Futrelle, Mrs. Jacques Heath (Lily May Peel)  female  35.0      1   \n",
              "6                              McCarthy, Mr. Timothy J    male  54.0      0   \n",
              "10                     Sandstrom, Miss. Marguerite Rut  female   4.0      1   \n",
              "11                            Bonnell, Miss. Elizabeth  female  58.0      0   \n",
              "..                                                 ...     ...   ...    ...   \n",
              "871   Beckwith, Mrs. Richard Leonard (Sallie Monypeny)  female  47.0      1   \n",
              "872                           Carlsson, Mr. Frans Olof    male  33.0      0   \n",
              "879      Potter, Mrs. Thomas Jr (Lily Alexenia Wilson)  female  56.0      0   \n",
              "887                       Graham, Miss. Margaret Edith  female  19.0      0   \n",
              "889                              Behr, Mr. Karl Howell    male  26.0      0   \n",
              "\n",
              "     Parch    Ticket     Fare        Cabin Embarked  \n",
              "1        0  PC 17599  71.2833          C85        C  \n",
              "3        0    113803  53.1000         C123        S  \n",
              "6        0     17463  51.8625          E46        S  \n",
              "10       1   PP 9549  16.7000           G6        S  \n",
              "11       0    113783  26.5500         C103        S  \n",
              "..     ...       ...      ...          ...      ...  \n",
              "871      1     11751  52.5542          D35        S  \n",
              "872      0       695   5.0000  B51 B53 B55        S  \n",
              "879      1     11767  83.1583          C50        C  \n",
              "887      0    112053  30.0000          B42        S  \n",
              "889      0    111369  30.0000         C148        C  \n",
              "\n",
              "[183 rows x 12 columns]"
            ]
          },
          "execution_count": 7,
          "metadata": {},
          "output_type": "execute_result"
        }
      ],
      "source": [
        "df\n"
      ]
    },
    {
      "cell_type": "markdown",
      "metadata": {
        "id": "Yq1wrP_uzZMP"
      },
      "source": [
        "E os testes? vamos atualizar os testes:\n",
        "\n",
        "```python\n",
        "import intelidata.lib as intelidata\n",
        "import pandas as pd\n",
        "\n",
        "def test_preprocess_output(capfd):  # capfd é um \"fixture\" do pytest para capturar saídas impressas.\n",
        "    intelidata.preprocess()\n",
        "    out, err = capfd.readouterr()\n",
        "    assert out == \"Vamos processar os dados!\\n\", \"A saída impressa não corresponde ao esperado\"\n",
        "\n",
        "def test_load_data():\n",
        "    df = intelidata.load_data()\n",
        "    assert isinstance(df, pd.DataFrame), \"A função não retorna um DataFrame do pandas.\"\n",
        "    # Supondo que o arquivo \"titanic_dataset.csv\" tenha pelo menos uma linha (sem contar o cabeçalho)\n",
        "    assert not df.empty, \"O DataFrame retornado está vazio.\"\n",
        "\n",
        "def test_clean_data():\n",
        "    # Criando um DataFrame de exemplo com valores NaN\n",
        "    df = pd.DataFrame({\n",
        "        'A': [1, 2, np.nan],\n",
        "        'B': [4, np.nan, 6],\n",
        "        'C': [np.nan, 8, 9],\n",
        "    })\n",
        "    \n",
        "    cleaned_df = intelidata.clean_data(df)\n",
        "    assert cleaned_df.shape[0] == 1, \"O DataFrame limpo deve conter apenas uma linha.\"\n",
        "    assert cleaned_df.shape[1] == 3, \"O DataFrame limpo deve conter três colunas.\"\n",
        "    assert not cleaned_df.isnull().any().any(), \"O DataFrame limpo não deve conter valores NaN.\"\n",
        "```"
      ]
    },
    {
      "cell_type": "code",
      "execution_count": null,
      "metadata": {
        "id": "Av4h5DdVzZMW"
      },
      "outputs": [],
      "source": [
        "!make test\n"
      ]
    },
    {
      "cell_type": "markdown",
      "metadata": {
        "id": "Ps9d_71VzZMX"
      },
      "source": [
        "# Extra!\n",
        "\n",
        "Podemos configurar uma função para apenas enviar ao S3 da AWS por exemplo...\n",
        "\n",
        "```python\n",
        "import pandas as pd\n",
        "import boto3\n",
        "from io import BytesIO\n",
        "\n",
        "def send_to_s3(df: pd.DataFrame, bucket_name: str, file_name: str, aws_access_key: str, aws_secret_key: str):\n",
        "    \"\"\"\n",
        "    Envia um DataFrame pandas para um bucket S3 da Amazon.\n",
        "\n",
        "    Parâmetros:\n",
        "    - df (pd.DataFrame): DataFrame a ser enviado.\n",
        "    - bucket_name (str): Nome do bucket S3.\n",
        "    - file_name (str): Nome do arquivo no S3.\n",
        "    - aws_access_key (str): AWS Access Key.\n",
        "    - aws_secret_key (str): AWS Secret Key.\n",
        "\n",
        "    Retorna:\n",
        "    - None\n",
        "    \"\"\"\n",
        "    # Inicializar o cliente S3\n",
        "    s3 = boto3.client('s3', aws_access_key_id=aws_access_key, aws_secret_access_key=aws_secret_key)\n",
        "    \n",
        "    # Converter o DataFrame para CSV e depois para Bytes\n",
        "    csv_buffer = BytesIO()\n",
        "    df.to_csv(csv_buffer)\n",
        "    \n",
        "    # Enviar os bytes para o S3\n",
        "    s3.put_object(Bucket=bucket_name, Key=file_name, Body=csv_buffer.getvalue())\n",
        "```\n",
        "\n",
        "neste caso, temos que colocar o boto3 no requirements.txt, assim como criar o teste também. Agora fica com você!"
      ]
    }
  ],
  "metadata": {
    "colab": {
      "provenance": []
    },
    "kernelspec": {
      "display_name": "Python 3 (ipykernel)",
      "language": "python",
      "name": "python3"
    },
    "language_info": {
      "codemirror_mode": {
        "name": "ipython",
        "version": 3
      },
      "file_extension": ".py",
      "mimetype": "text/x-python",
      "name": "python",
      "nbconvert_exporter": "python",
      "pygments_lexer": "ipython3",
      "version": "3.10.6"
    },
    "toc": {
      "base_numbering": 1,
      "nav_menu": {},
      "number_sections": true,
      "sideBar": true,
      "skip_h1_title": false,
      "title_cell": "Table of Contents",
      "title_sidebar": "Contents",
      "toc_cell": false,
      "toc_position": {},
      "toc_section_display": true,
      "toc_window_display": false
    }
  },
  "nbformat": 4,
  "nbformat_minor": 0
}
