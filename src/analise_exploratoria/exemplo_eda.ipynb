{
 "cells": [
  {
   "cell_type": "markdown",
   "metadata": {},
   "source": [
    "# EDA (Exploratory Data Analysis)"
   ]
  },
  {
   "cell_type": "markdown",
   "metadata": {},
   "source": [
    "A Análise Exploratória de Dados (EDA, do inglês \"Exploratory Data Analysis\") é um passo fundamental no processo de análise de dados. Seu objetivo é compreender melhor as características dos dados, identificar padrões, anomalias, relacionamentos entre variáveis e gerar hipóteses. Aqui estão as principais etapas e técnicas que você pode usar em um EDA:\n",
    "\n",
    "1. **Compreensão Inicial dos Dados**:\n",
    "    \n",
    "    * **Visualizar o conjunto de dados**: Olhar as primeiras e últimas linhas para ter uma ideia geral.\n",
    "    * **Verificar dimensões do conjunto de dados**: Quantas linhas e colunas existem.\n",
    "    * **Tipos de dados**: Entender o tipo de cada variável (numérica, categórica, data/hora, etc.).\n",
    "2. **Limpeza de Dados**:\n",
    "    \n",
    "    * **Tratar valores ausentes**: Identificar e tratar os valores nulos.\n",
    "    * **Remover duplicatas**: Identificar e remover registros duplicados, se necessário.\n",
    "    * **Tratar dados inconsistentes**: Corrigir ou remover dados que não fazem sentido.\n",
    "3. **Análise Univarida**:\n",
    "    \n",
    "    * **Distribuição de variáveis numéricas**: Histogramas, boxplots para entender a distribuição.\n",
    "    * **Resumo estatístico**: Média, mediana, desvio padrão, quartis, etc.\n",
    "    * **Frequência de categorias**: Para variáveis categóricas, verificar a contagem ou proporção de cada categoria.\n",
    "4. **Análise Bivarida/Multivarida**:\n",
    "    \n",
    "    * **Correlação entre variáveis numéricas**: Mapas de calor e scatter plots para identificar relações.\n",
    "    * **Comparação entre grupos**: Por exemplo, usar gráficos de barras para comparar médias.\n",
    "    * **Análise de tendência/temporal**: Se houver dados de séries temporais, analisar padrões ao longo do tempo.\n",
    "5. **Visualizações Gráficas**:\n",
    "    \n",
    "    * **Usar gráficos apropriados**: Dependendo do tipo de dado e da questão que está sendo investigada.\n",
    "    * **Gráficos interativos**: Podem ser úteis para explorar os dados de maneiras mais dinâmicas.\n",
    "6. **Identificar Anomalias e Outliers**:\n",
    "    \n",
    "    * **Detectar outliers**: Que podem distorcer a análise e que podem ser interessantes por si só.\n",
    "7. **Testar Hipóteses Iniciais e Formular Novas**:\n",
    "    \n",
    "    * **Validar ou refutar suposições iniciais**: Com base nas análises.\n",
    "    * **Gerar novas perguntas e hipóteses**: Para investigações mais profundas ou futuras análises.\n",
    "8. **Documentação e Compartilhamento dos Insights**:\n",
    "    \n",
    "    * **Registrar observações**: Manter um registro de suas descobertas e pensamentos.\n",
    "    * **Compartilhar resultados**: Com stakeholders ou colegas, usando visualizações claras e insights concisos.\n",
    "9. **Iteração**:\n",
    "    \n",
    "    * **Repetir e aprofundar**: EDA é frequentemente um processo iterativo, onde cada rodada de análise pode levar a novas perguntas.\n",
    "\n",
    "Lembre-se, a EDA não é um processo linear, mas sim iterativo e adaptativo, dependendo do que os dados revelam. É importante manter a mente aberta e estar pronto para ajustar suas hipóteses e métodos conforme você aprende mais sobre os dados."
   ]
  },
  {
   "cell_type": "markdown",
   "metadata": {},
   "source": [
    "![eda](\"../../../../assets/eda.png)"
   ]
  },
  {
   "cell_type": "markdown",
   "metadata": {},
   "source": [
    "**Análise Exploratória de Dados: Descobertas Impulsionadas por Dados**\n",
    "\n",
    "Imagine-se navegando em um vasto oceano sem um mapa – uma tarefa intimidadora, certo? É aqui que entra a Análise Exploratória de Dados (EDA), como nossa bússola de navegação no mundo orientado por dados.\n",
    "\n",
    "A Análise Exploratória de Dados é uma metodologia para resumir as principais características dos dados, permitindo entender o que eles podem nos revelar antes de iniciar a modelagem formal. Ela representa um passo crucial, ajudando a descobrir padrões, identificar anomalias, testar hipóteses ou verificar suposições.\n",
    "\n",
    "1️⃣ **Conquistas Rápidas:** Antes de mergulhar em algoritmos complexos e modelos, a EDA oferece insights imediatos que podem levar a vitórias rápidas nos negócios.\n",
    "\n",
    "2️⃣ **Estratégia Orientada:** As percepções obtidas através da EDA ajudam a moldar sua estratégia analítica, indicando quais variáveis merecem uma exploração mais aprofundada.\n",
    "\n",
    "3️⃣ **Verificação da Qualidade dos Dados:** Uma análise detalhada do seu conjunto de dados através da EDA revela valores ausentes e outliers - resolver essas questões garante uma análise mais robusta posteriormente.\n",
    "\n",
    "4️⃣ **Narrativa com Dados:** As visualizações criadas durante a fase exploratória facilitam a comunicação das histórias por trás dos números, tanto internamente quanto para o público externo.\n",
    "\n",
    "Na essência, quando você utiliza a Análise Exploratória de Dados efetivamente:\n",
    "\n",
    "✔ Você reduz riscos através de decisões informadas.\n",
    "\n",
    "✔ Aumenta a eficiência ao focar em áreas que trarão resultados.\n",
    "\n",
    "✔ Comunica descobertas de forma mais persuasiva."
   ]
  },
  {
   "cell_type": "code",
   "execution_count": null,
   "metadata": {},
   "outputs": [],
   "source": [
    "# Para esta demonstração, mas utilizar o pandas, numpy e skimpy\n",
    "!pip install --upgrade pip\n",
    "!pip install pandas numpy skimpy"
   ]
  },
  {
   "cell_type": "code",
   "execution_count": 3,
   "metadata": {},
   "outputs": [],
   "source": [
    "# Vamos gerar dados\n",
    "\n",
    "import pandas as pd\n",
    "import numpy as np\n",
    "import random\n",
    "from datetime import timedelta, date\n",
    "\n",
    "def daterange(start_date, end_date):\n",
    "    \"\"\"Helper function to generate a date range.\"\"\"\n",
    "    for n in range(int((end_date - start_date).days)):\n",
    "        yield start_date + timedelta(n)\n",
    "\n",
    "def generate_factory_data(start_date, end_date, num_records):\n",
    "    \"\"\"Generates random factory data between two dates.\"\"\"\n",
    "    dates = list(daterange(start_date, end_date))\n",
    "    data = {\n",
    "        'Date': random.choices(dates, k=num_records),\n",
    "        'ConcreteVolume': np.random.uniform(50, 500, num_records).round(2),  # volume of concrete in cubic meters\n",
    "        'PiecesProduced': np.random.randint(100, 1000, num_records),  # number of pieces produced\n",
    "        'EmployeesOnLine': np.random.randint(5, 50, num_records),  # number of employees working\n",
    "        'MachineDowntimeHours': np.random.uniform(0, 3, num_records).round(2),  # machine downtime in hours\n",
    "        'QualityChecksFailed': np.random.randint(0, 10, num_records)  # number of failed quality checks\n",
    "    }\n",
    "    return pd.DataFrame(data)\n",
    "\n",
    "# Generate sample data\n",
    "start_date = date(2023, 1, 1)\n",
    "end_date = date(2023, 12, 31)\n",
    "num_records = 1000  # number of records to generate\n",
    "\n",
    "df = generate_factory_data(start_date, end_date, num_records)\n",
    "df.to_csv('factory_production_data.csv', index=False)"
   ]
  },
  {
   "cell_type": "code",
   "execution_count": 5,
   "metadata": {},
   "outputs": [
    {
     "data": {
      "text/html": [
       "<pre style=\"white-space:pre;overflow-x:auto;line-height:normal;font-family:Menlo,'DejaVu Sans Mono',consolas,'Courier New',monospace\">╭──────────────────────────────────────────────── skimpy summary ─────────────────────────────────────────────────╮\n",
       "│ <span style=\"font-style: italic\">         Data Summary         </span> <span style=\"font-style: italic\">      Data Types       </span>                                                          │\n",
       "│ ┏━━━━━━━━━━━━━━━━━━━┳━━━━━━━━┓ ┏━━━━━━━━━━━━━┳━━━━━━━┓                                                          │\n",
       "│ ┃<span style=\"color: #008080; text-decoration-color: #008080; font-weight: bold\"> dataframe         </span>┃<span style=\"color: #008080; text-decoration-color: #008080; font-weight: bold\"> Values </span>┃ ┃<span style=\"color: #008080; text-decoration-color: #008080; font-weight: bold\"> Column Type </span>┃<span style=\"color: #008080; text-decoration-color: #008080; font-weight: bold\"> Count </span>┃                                                          │\n",
       "│ ┡━━━━━━━━━━━━━━━━━━━╇━━━━━━━━┩ ┡━━━━━━━━━━━━━╇━━━━━━━┩                                                          │\n",
       "│ │ Number of rows    │ 1000   │ │ int64       │ 3     │                                                          │\n",
       "│ │ Number of columns │ 6      │ │ float64     │ 2     │                                                          │\n",
       "│ └───────────────────┴────────┘ │ object      │ 1     │                                                          │\n",
       "│                                └─────────────┴───────┘                                                          │\n",
       "│ <span style=\"font-style: italic\">                                                    number                                                    </span>  │\n",
       "│ ┏━━━━━━━━━━━━━━━━━━━━━━━━━━━┳━━━━━┳━━━━━━━━┳━━━━━━━━┳━━━━━━━━┳━━━━━━━┳━━━━━━━┳━━━━━━┳━━━━━━┳━━━━━━━┳━━━━━━━━━┓  │\n",
       "│ ┃<span style=\"font-weight: bold\"> column_name               </span>┃<span style=\"font-weight: bold\"> NA  </span>┃<span style=\"font-weight: bold\"> NA %   </span>┃<span style=\"font-weight: bold\"> mean   </span>┃<span style=\"font-weight: bold\"> sd     </span>┃<span style=\"font-weight: bold\"> p0    </span>┃<span style=\"font-weight: bold\"> p25   </span>┃<span style=\"font-weight: bold\"> p50  </span>┃<span style=\"font-weight: bold\"> p75  </span>┃<span style=\"font-weight: bold\"> p100  </span>┃<span style=\"font-weight: bold\"> hist    </span>┃  │\n",
       "│ ┡━━━━━━━━━━━━━━━━━━━━━━━━━━━╇━━━━━╇━━━━━━━━╇━━━━━━━━╇━━━━━━━━╇━━━━━━━╇━━━━━━━╇━━━━━━╇━━━━━━╇━━━━━━━╇━━━━━━━━━┩  │\n",
       "│ │ <span style=\"color: #af87ff; text-decoration-color: #af87ff\">ConcreteVolume           </span> │ <span style=\"color: #008080; text-decoration-color: #008080\">  0</span> │ <span style=\"color: #008080; text-decoration-color: #008080\">     0</span> │ <span style=\"color: #008080; text-decoration-color: #008080\">   280</span> │ <span style=\"color: #008080; text-decoration-color: #008080\">   130</span> │ <span style=\"color: #008080; text-decoration-color: #008080\">   50</span> │ <span style=\"color: #008080; text-decoration-color: #008080\">  160</span> │ <span style=\"color: #008080; text-decoration-color: #008080\"> 280</span> │ <span style=\"color: #008080; text-decoration-color: #008080\"> 390</span> │ <span style=\"color: #008080; text-decoration-color: #008080\">  500</span> │ <span style=\"color: #008000; text-decoration-color: #008000\">▇▇▇▇▇▇ </span> │  │\n",
       "│ │ <span style=\"color: #af87ff; text-decoration-color: #af87ff\">PiecesProduced           </span> │ <span style=\"color: #008080; text-decoration-color: #008080\">  0</span> │ <span style=\"color: #008080; text-decoration-color: #008080\">     0</span> │ <span style=\"color: #008080; text-decoration-color: #008080\">   550</span> │ <span style=\"color: #008080; text-decoration-color: #008080\">   260</span> │ <span style=\"color: #008080; text-decoration-color: #008080\">  100</span> │ <span style=\"color: #008080; text-decoration-color: #008080\">  330</span> │ <span style=\"color: #008080; text-decoration-color: #008080\"> 560</span> │ <span style=\"color: #008080; text-decoration-color: #008080\"> 780</span> │ <span style=\"color: #008080; text-decoration-color: #008080\"> 1000</span> │ <span style=\"color: #008000; text-decoration-color: #008000\">▇▆▇▇▇▇ </span> │  │\n",
       "│ │ <span style=\"color: #af87ff; text-decoration-color: #af87ff\">EmployeesOnLine          </span> │ <span style=\"color: #008080; text-decoration-color: #008080\">  0</span> │ <span style=\"color: #008080; text-decoration-color: #008080\">     0</span> │ <span style=\"color: #008080; text-decoration-color: #008080\">    28</span> │ <span style=\"color: #008080; text-decoration-color: #008080\">    13</span> │ <span style=\"color: #008080; text-decoration-color: #008080\">    5</span> │ <span style=\"color: #008080; text-decoration-color: #008080\">   17</span> │ <span style=\"color: #008080; text-decoration-color: #008080\">  28</span> │ <span style=\"color: #008080; text-decoration-color: #008080\">  38</span> │ <span style=\"color: #008080; text-decoration-color: #008080\">   49</span> │ <span style=\"color: #008000; text-decoration-color: #008000\">▇▇▇▇▇▇ </span> │  │\n",
       "│ │ <span style=\"color: #af87ff; text-decoration-color: #af87ff\">MachineDowntimeHours     </span> │ <span style=\"color: #008080; text-decoration-color: #008080\">  0</span> │ <span style=\"color: #008080; text-decoration-color: #008080\">     0</span> │ <span style=\"color: #008080; text-decoration-color: #008080\">   1.5</span> │ <span style=\"color: #008080; text-decoration-color: #008080\">  0.89</span> │ <span style=\"color: #008080; text-decoration-color: #008080\"> 0.01</span> │ <span style=\"color: #008080; text-decoration-color: #008080\"> 0.68</span> │ <span style=\"color: #008080; text-decoration-color: #008080\"> 1.5</span> │ <span style=\"color: #008080; text-decoration-color: #008080\"> 2.3</span> │ <span style=\"color: #008080; text-decoration-color: #008080\">    3</span> │ <span style=\"color: #008000; text-decoration-color: #008000\">▇▇▆▇▇▇ </span> │  │\n",
       "│ │ <span style=\"color: #af87ff; text-decoration-color: #af87ff\">QualityChecksFailed      </span> │ <span style=\"color: #008080; text-decoration-color: #008080\">  0</span> │ <span style=\"color: #008080; text-decoration-color: #008080\">     0</span> │ <span style=\"color: #008080; text-decoration-color: #008080\">   4.6</span> │ <span style=\"color: #008080; text-decoration-color: #008080\">   2.8</span> │ <span style=\"color: #008080; text-decoration-color: #008080\">    0</span> │ <span style=\"color: #008080; text-decoration-color: #008080\">    2</span> │ <span style=\"color: #008080; text-decoration-color: #008080\">   5</span> │ <span style=\"color: #008080; text-decoration-color: #008080\">   7</span> │ <span style=\"color: #008080; text-decoration-color: #008080\">    9</span> │ <span style=\"color: #008000; text-decoration-color: #008000\">▇▃▇▃▇▇ </span> │  │\n",
       "│ └───────────────────────────┴─────┴────────┴────────┴────────┴───────┴───────┴──────┴──────┴───────┴─────────┘  │\n",
       "│ <span style=\"font-style: italic\">                                           &lt;class 'datetime.date'&gt;                                            </span>  │\n",
       "│ ┏━━━━━━━━━━━━━━━━━━━━━━━━┳━━━━━━━━┳━━━━━━━━━━━┳━━━━━━━━━━━━━━━━━━━━━┳━━━━━━━━━━━━━━━━━━━━━┳━━━━━━━━━━━━━━━━━━┓  │\n",
       "│ ┃<span style=\"font-weight: bold\"> column_name            </span>┃<span style=\"font-weight: bold\"> NA     </span>┃<span style=\"font-weight: bold\"> NA %      </span>┃<span style=\"font-weight: bold\"> first               </span>┃<span style=\"font-weight: bold\"> last                </span>┃<span style=\"font-weight: bold\"> frequency        </span>┃  │\n",
       "│ ┡━━━━━━━━━━━━━━━━━━━━━━━━╇━━━━━━━━╇━━━━━━━━━━━╇━━━━━━━━━━━━━━━━━━━━━╇━━━━━━━━━━━━━━━━━━━━━╇━━━━━━━━━━━━━━━━━━┩  │\n",
       "│ │ <span style=\"color: #af87ff; text-decoration-color: #af87ff\">Date                  </span> │ <span style=\"color: #008080; text-decoration-color: #008080\">     0</span> │ <span style=\"color: #008080; text-decoration-color: #008080\">        0</span> │ <span style=\"color: #af87ff; text-decoration-color: #af87ff\">2023-01-01         </span> │ <span style=\"color: #af87ff; text-decoration-color: #af87ff\">2023-12-30         </span> │ <span style=\"color: #af87ff; text-decoration-color: #af87ff\">None            </span> │  │\n",
       "│ └────────────────────────┴────────┴───────────┴─────────────────────┴─────────────────────┴──────────────────┘  │\n",
       "╰────────────────────────────────────────────────────── End ──────────────────────────────────────────────────────╯\n",
       "</pre>\n"
      ],
      "text/plain": [
       "╭──────────────────────────────────────────────── skimpy summary ─────────────────────────────────────────────────╮\n",
       "│ \u001b[3m         Data Summary         \u001b[0m \u001b[3m      Data Types       \u001b[0m                                                          │\n",
       "│ ┏━━━━━━━━━━━━━━━━━━━┳━━━━━━━━┓ ┏━━━━━━━━━━━━━┳━━━━━━━┓                                                          │\n",
       "│ ┃\u001b[1;36m \u001b[0m\u001b[1;36mdataframe        \u001b[0m\u001b[1;36m \u001b[0m┃\u001b[1;36m \u001b[0m\u001b[1;36mValues\u001b[0m\u001b[1;36m \u001b[0m┃ ┃\u001b[1;36m \u001b[0m\u001b[1;36mColumn Type\u001b[0m\u001b[1;36m \u001b[0m┃\u001b[1;36m \u001b[0m\u001b[1;36mCount\u001b[0m\u001b[1;36m \u001b[0m┃                                                          │\n",
       "│ ┡━━━━━━━━━━━━━━━━━━━╇━━━━━━━━┩ ┡━━━━━━━━━━━━━╇━━━━━━━┩                                                          │\n",
       "│ │ Number of rows    │ 1000   │ │ int64       │ 3     │                                                          │\n",
       "│ │ Number of columns │ 6      │ │ float64     │ 2     │                                                          │\n",
       "│ └───────────────────┴────────┘ │ object      │ 1     │                                                          │\n",
       "│                                └─────────────┴───────┘                                                          │\n",
       "│ \u001b[3m                                                    number                                                    \u001b[0m  │\n",
       "│ ┏━━━━━━━━━━━━━━━━━━━━━━━━━━━┳━━━━━┳━━━━━━━━┳━━━━━━━━┳━━━━━━━━┳━━━━━━━┳━━━━━━━┳━━━━━━┳━━━━━━┳━━━━━━━┳━━━━━━━━━┓  │\n",
       "│ ┃\u001b[1m \u001b[0m\u001b[1mcolumn_name              \u001b[0m\u001b[1m \u001b[0m┃\u001b[1m \u001b[0m\u001b[1mNA \u001b[0m\u001b[1m \u001b[0m┃\u001b[1m \u001b[0m\u001b[1mNA %  \u001b[0m\u001b[1m \u001b[0m┃\u001b[1m \u001b[0m\u001b[1mmean  \u001b[0m\u001b[1m \u001b[0m┃\u001b[1m \u001b[0m\u001b[1msd    \u001b[0m\u001b[1m \u001b[0m┃\u001b[1m \u001b[0m\u001b[1mp0   \u001b[0m\u001b[1m \u001b[0m┃\u001b[1m \u001b[0m\u001b[1mp25  \u001b[0m\u001b[1m \u001b[0m┃\u001b[1m \u001b[0m\u001b[1mp50 \u001b[0m\u001b[1m \u001b[0m┃\u001b[1m \u001b[0m\u001b[1mp75 \u001b[0m\u001b[1m \u001b[0m┃\u001b[1m \u001b[0m\u001b[1mp100 \u001b[0m\u001b[1m \u001b[0m┃\u001b[1m \u001b[0m\u001b[1mhist   \u001b[0m\u001b[1m \u001b[0m┃  │\n",
       "│ ┡━━━━━━━━━━━━━━━━━━━━━━━━━━━╇━━━━━╇━━━━━━━━╇━━━━━━━━╇━━━━━━━━╇━━━━━━━╇━━━━━━━╇━━━━━━╇━━━━━━╇━━━━━━━╇━━━━━━━━━┩  │\n",
       "│ │ \u001b[38;5;141mConcreteVolume           \u001b[0m │ \u001b[36m  0\u001b[0m │ \u001b[36m     0\u001b[0m │ \u001b[36m   280\u001b[0m │ \u001b[36m   130\u001b[0m │ \u001b[36m   50\u001b[0m │ \u001b[36m  160\u001b[0m │ \u001b[36m 280\u001b[0m │ \u001b[36m 390\u001b[0m │ \u001b[36m  500\u001b[0m │ \u001b[32m▇▇▇▇▇▇ \u001b[0m │  │\n",
       "│ │ \u001b[38;5;141mPiecesProduced           \u001b[0m │ \u001b[36m  0\u001b[0m │ \u001b[36m     0\u001b[0m │ \u001b[36m   550\u001b[0m │ \u001b[36m   260\u001b[0m │ \u001b[36m  100\u001b[0m │ \u001b[36m  330\u001b[0m │ \u001b[36m 560\u001b[0m │ \u001b[36m 780\u001b[0m │ \u001b[36m 1000\u001b[0m │ \u001b[32m▇▆▇▇▇▇ \u001b[0m │  │\n",
       "│ │ \u001b[38;5;141mEmployeesOnLine          \u001b[0m │ \u001b[36m  0\u001b[0m │ \u001b[36m     0\u001b[0m │ \u001b[36m    28\u001b[0m │ \u001b[36m    13\u001b[0m │ \u001b[36m    5\u001b[0m │ \u001b[36m   17\u001b[0m │ \u001b[36m  28\u001b[0m │ \u001b[36m  38\u001b[0m │ \u001b[36m   49\u001b[0m │ \u001b[32m▇▇▇▇▇▇ \u001b[0m │  │\n",
       "│ │ \u001b[38;5;141mMachineDowntimeHours     \u001b[0m │ \u001b[36m  0\u001b[0m │ \u001b[36m     0\u001b[0m │ \u001b[36m   1.5\u001b[0m │ \u001b[36m  0.89\u001b[0m │ \u001b[36m 0.01\u001b[0m │ \u001b[36m 0.68\u001b[0m │ \u001b[36m 1.5\u001b[0m │ \u001b[36m 2.3\u001b[0m │ \u001b[36m    3\u001b[0m │ \u001b[32m▇▇▆▇▇▇ \u001b[0m │  │\n",
       "│ │ \u001b[38;5;141mQualityChecksFailed      \u001b[0m │ \u001b[36m  0\u001b[0m │ \u001b[36m     0\u001b[0m │ \u001b[36m   4.6\u001b[0m │ \u001b[36m   2.8\u001b[0m │ \u001b[36m    0\u001b[0m │ \u001b[36m    2\u001b[0m │ \u001b[36m   5\u001b[0m │ \u001b[36m   7\u001b[0m │ \u001b[36m    9\u001b[0m │ \u001b[32m▇▃▇▃▇▇ \u001b[0m │  │\n",
       "│ └───────────────────────────┴─────┴────────┴────────┴────────┴───────┴───────┴──────┴──────┴───────┴─────────┘  │\n",
       "│ \u001b[3m                                           <class 'datetime.date'>                                            \u001b[0m  │\n",
       "│ ┏━━━━━━━━━━━━━━━━━━━━━━━━┳━━━━━━━━┳━━━━━━━━━━━┳━━━━━━━━━━━━━━━━━━━━━┳━━━━━━━━━━━━━━━━━━━━━┳━━━━━━━━━━━━━━━━━━┓  │\n",
       "│ ┃\u001b[1m \u001b[0m\u001b[1mcolumn_name           \u001b[0m\u001b[1m \u001b[0m┃\u001b[1m \u001b[0m\u001b[1mNA    \u001b[0m\u001b[1m \u001b[0m┃\u001b[1m \u001b[0m\u001b[1mNA %     \u001b[0m\u001b[1m \u001b[0m┃\u001b[1m \u001b[0m\u001b[1mfirst              \u001b[0m\u001b[1m \u001b[0m┃\u001b[1m \u001b[0m\u001b[1mlast               \u001b[0m\u001b[1m \u001b[0m┃\u001b[1m \u001b[0m\u001b[1mfrequency       \u001b[0m\u001b[1m \u001b[0m┃  │\n",
       "│ ┡━━━━━━━━━━━━━━━━━━━━━━━━╇━━━━━━━━╇━━━━━━━━━━━╇━━━━━━━━━━━━━━━━━━━━━╇━━━━━━━━━━━━━━━━━━━━━╇━━━━━━━━━━━━━━━━━━┩  │\n",
       "│ │ \u001b[38;5;141mDate                  \u001b[0m │ \u001b[36m     0\u001b[0m │ \u001b[36m        0\u001b[0m │ \u001b[38;5;141m2023-01-01         \u001b[0m │ \u001b[38;5;141m2023-12-30         \u001b[0m │ \u001b[38;5;141mNone            \u001b[0m │  │\n",
       "│ └────────────────────────┴────────┴───────────┴─────────────────────┴─────────────────────┴──────────────────┘  │\n",
       "╰────────────────────────────────────────────────────── End ──────────────────────────────────────────────────────╯\n"
      ]
     },
     "metadata": {},
     "output_type": "display_data"
    }
   ],
   "source": [
    "from skimpy import skim\n",
    "\n",
    "skim(df)"
   ]
  }
 ],
 "metadata": {
  "kernelspec": {
   "display_name": "Python 3",
   "language": "python",
   "name": "python3"
  },
  "language_info": {
   "codemirror_mode": {
    "name": "ipython",
    "version": 3
   },
   "file_extension": ".py",
   "mimetype": "text/x-python",
   "name": "python",
   "nbconvert_exporter": "python",
   "pygments_lexer": "ipython3",
   "version": "3.10.6"
  }
 },
 "nbformat": 4,
 "nbformat_minor": 2
}
